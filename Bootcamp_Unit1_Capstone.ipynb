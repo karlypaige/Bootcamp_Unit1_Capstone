{
 "cells": [
  {
   "cell_type": "markdown",
   "metadata": {},
   "source": [
    "# Hypothyroidism\n",
    "This project builds off of my previous Fundamentals Capstone project.  In exploring the data there was a particularly interesting aspect that merits further investigation.  \n",
    "\n",
    "This directory contains the latest version of an archive of thyroid diagnoses\n",
    "obtained from the Garvan Institute, consisting of 9172 records from 1984 to\n",
    "early 1987.\n",
    "\n",
    "When the data was split into groups by gender and displayed as a histogram by age some differences between the two groups begins to appear:"
   ]
  },
  {
   "cell_type": "code",
   "execution_count": 1,
   "metadata": {},
   "outputs": [],
   "source": [
    "import numpy as np\n",
    "import pandas as pd\n",
    "import matplotlib.pyplot as plt\n",
    "import matplotlib.axes as ax\n",
    "import scipy.stats as stats\n",
    "%matplotlib inline"
   ]
  },
  {
   "cell_type": "code",
   "execution_count": 2,
   "metadata": {},
   "outputs": [],
   "source": [
    "ht = pd.read_csv('hypothyroid data.csv', header=None)"
   ]
  },
  {
   "cell_type": "code",
   "execution_count": 3,
   "metadata": {},
   "outputs": [],
   "source": [
    "#create column names\n",
    "ht.columns=['hypothyroid','age','sex','on_thyroxine','query_on_thyroxine',\n",
    "            'on_antithyroid_medication','thyroid_surgery','query_hypothyroid',\n",
    "            'query_hyperthryoid','pregnant','sick','tumor','lithium','goiter',\n",
    "            'TSH_measured','TSH','T3_measured','T3','TT4_measured','TT4',\n",
    "            'T4U_measured','T4U','FTI_measured','FTI','TBG_measured','TBG']"
   ]
  },
  {
   "cell_type": "code",
   "execution_count": 4,
   "metadata": {},
   "outputs": [],
   "source": [
    "#Replace '?' values with 0\n",
    "ht = ht.replace(['?'], 0)"
   ]
  },
  {
   "cell_type": "code",
   "execution_count": 5,
   "metadata": {},
   "outputs": [],
   "source": [
    "#convert numbers to ints and floats for accurate scatter and bar plots.\n",
    "for index, age in enumerate(ht['age']):\n",
    "    if age != 'NaN':\n",
    "        ht['age'][index] = int(age)\n",
    "for index, T3 in enumerate(ht['T3']):\n",
    "    if T3 != 'NaN':\n",
    "        ht['T3'][index] = float(T3)\n",
    "for index, TSH in enumerate(ht['TSH']):\n",
    "    if TSH != 'NaN':\n",
    "        ht['TSH'][index] = float(TSH)\n",
    "for index, TT4 in enumerate(ht['TT4']):\n",
    "    if TT4 != 'NaN':\n",
    "        ht['TT4'][index] = float(TT4)\n",
    "for index, T4U in enumerate(ht['T4U']):\n",
    "    if T4U != 'NaN':\n",
    "        ht['T4U'][index] = float(T4U)\n",
    "for index, FTI in enumerate(ht['FTI']):\n",
    "    if FTI != 'NaN':\n",
    "        ht['FTI'][index] = float(FTI)\n",
    "for index, TBG in enumerate(ht['TBG']):\n",
    "    if TBG != 'NaN':\n",
    "        ht['TBG'][index] = float(TBG)"
   ]
  },
  {
   "cell_type": "code",
   "execution_count": 6,
   "metadata": {},
   "outputs": [],
   "source": [
    "#Change figure size\n",
    "plt.rcParams[\"figure.figsize\"] = [12,4]"
   ]
  },
  {
   "cell_type": "code",
   "execution_count": 7,
   "metadata": {},
   "outputs": [
    {
     "data": {
      "image/png": "[encoded data removed]",
      "text/plain": [
       "<Figure size 864x288 with 1 Axes>"
      ]
     },
     "metadata": {},
     "output_type": "display_data"
    }
   ],
   "source": [
    "plt.bar(x=np.unique(ht['age'].loc[(ht['age']!=0)\n",
    "                                 &(ht['sex'].isin(['F']))]),\n",
    "        height=ht['age'].loc[(ht['age']!=0)\n",
    "                            &(ht['sex'].isin(['F']))].value_counts(sort=False),\n",
    "        color='rosybrown', alpha=.5, label='Females')\n",
    "plt.bar(x=np.unique(ht['age'].loc[(ht['age']!=0)\n",
    "                    &ht['sex'].isin(['M'])]),\n",
    "        height=ht['age'].loc[(ht['age']!=0)\n",
    "                    &ht['sex'].isin(['M'])].value_counts(sort=False), \n",
    "        color='teal',alpha=.5, label='Males')\n",
    "\n",
    "plt.legend(loc='upper left')\n",
    "plt.xlabel('ages')\n",
    "plt.ylabel('value counts')\n",
    "plt.title('Distribution of Gender Across Ascending Ages')\n",
    "\n",
    "plt.show()"
   ]
  },
  {
   "cell_type": "markdown",
   "metadata": {},
   "source": [
    "Two things stand out: 1. There are nearly twice as many women than men seeking clinical care for thyroid related issues at any age group and 2. Men tend to seek out care more as they get older and less so in their earlier years."
   ]
  },
  {
   "cell_type": "code",
   "execution_count": 8,
   "metadata": {
    "scrolled": true
   },
   "outputs": [
    {
     "data": {
      "image/png": "[encoded data removed]",
      "text/plain": [
       "<Figure size 864x288 with 1 Axes>"
      ]
     },
     "metadata": {},
     "output_type": "display_data"
    }
   ],
   "source": [
    "#Change figure size\n",
    "plt.rcParams[\"figure.figsize\"] = [12, 4]\n",
    "\n",
    "plt.bar(x=np.unique(ht['age'].loc[(ht['age']!=0)\n",
    "                                 &(ht['sex'].isin(['F']))]),\n",
    "        height=ht['age'].loc[(ht['age']!=0)\n",
    "                            &(ht['sex'].isin(['F']))].value_counts(sort=False),\n",
    "        color='mistyrose', alpha=.7, label='Females')\n",
    "plt.bar(x=np.unique(ht['age'].loc[(ht['age']!=0)\n",
    "                    &ht['sex'].isin(['M'])]),\n",
    "        height=ht['age'].loc[(ht['age']!=0)\n",
    "                    &ht['sex'].isin(['M'])].value_counts(sort=False), \n",
    "        color='lightcyan',alpha=.7, label='Males')\n",
    "\n",
    "plt.bar(x=np.unique(ht['age'].loc[(ht['age']!=0)\n",
    "                                 &(ht['sex'].isin(['F']))\n",
    "                                 &(ht['hypothyroid'].isin(['hypothyroid']))]),\n",
    "        height=ht['age'].loc[(ht['age']!=0)\n",
    "                             &(ht['sex'].isin(['F']))\n",
    "                             &(ht['hypothyroid'].isin(['hypothyroid']))\n",
    "                            ].value_counts(sort=False),\n",
    "        color='rosybrown', alpha=.7, label='+Females')\n",
    "plt.bar(x=np.unique(ht['age'].loc[(ht['age']!=0)\n",
    "                                  &(ht['sex'].isin(['M']))\n",
    "                                  &(ht['hypothyroid'].isin(['hypothyroid']))]),\n",
    "        height=ht['age'].loc[(ht['age']!=0)\n",
    "                             &(ht['sex'].isin(['M']))\n",
    "                             &(ht['hypothyroid'].isin(['hypothyroid']))\n",
    "                            ].value_counts(sort=False), \n",
    "        color='teal',alpha=.7, label='+Males')\n",
    "\n",
    "plt.legend(loc='upper left')\n",
    "plt.xlabel('ages')\n",
    "plt.ylabel('value counts')\n",
    "plt.title('Distribution of Hypothyroid Positive Individuals by Gender Across Ascending Ages')\n",
    "\n",
    "plt.show()"
   ]
  },
  {
   "cell_type": "markdown",
   "metadata": {},
   "source": [
    "Looking at the number of cases of diagnosed hypothyroidism it seems there are a lot less men being diagnosed than women.\n",
    "Indeed - this variance in expression is reported quite frequently in literature and is explained as a byproduct of the higher occurance of automimmune disease in women.  As modern medicine has cured most other causes of hypothyroidism the pattern of expression begins to resemble its parent condition of autoimmunity.\n",
    "\n",
    "web sites explaining hypothyroidism in men:\n",
    "https://www.everydayhealth.com/thyroid-conditions/hypothyroidism-symptoms-in-men.aspx\n",
    "https://www.bodylogicmd.com/for-men/thyroid-health"
   ]
  },
  {
   "cell_type": "markdown",
   "metadata": {},
   "source": [
    "This might be true, but it might also be true that less men get diagnosed because less men seek help.\n",
    "Using the data in this data set, a quick look shows the precentage of men actually diagnosed is not much different from the percentage of women diagnosed.\n",
    "Let's look at the data we have on hand and see if we can get some preliminary suggestions from it:"
   ]
  },
  {
   "cell_type": "code",
   "execution_count": 9,
   "metadata": {},
   "outputs": [],
   "source": [
    "#to calculate percent M vs F - convert hypothyroid column into 1 = hypothyroid positive 0 = negative.\n",
    "#Replace '?' values with 0\n",
    "ht['HT_percent'] = ht['hypothyroid'].replace(['hypothyroid', 'negative'], [1, 0])"
   ]
  },
  {
   "cell_type": "code",
   "execution_count": 10,
   "metadata": {
    "scrolled": true
   },
   "outputs": [
    {
     "data": {
      "image/png": "[encoded data removed]",
      "text/plain": [
       "<Figure size 864x576 with 1 Axes>"
      ]
     },
     "metadata": {},
     "output_type": "display_data"
    }
   ],
   "source": [
    "#Look at the difference between diagnosed men and women only\n",
    "#Change figure size\n",
    "plt.rcParams[\"figure.figsize\"] = [12, 8]\n",
    "\n",
    "ind = np.arange(2)\n",
    "\n",
    "fColor = 'rosybrown'\n",
    "mColor = 'slategrey'\n",
    "\n",
    "plt.bar(ind, np.array([\n",
    "    ht[ht.HT_percent==1].sex[ht.sex=='F'].count()\n",
    "    , ht[ht.HT_percent==1].sex[ht.sex=='M'].count()\n",
    "])\n",
    "    , color=[fColor,mColor])\n",
    "\n",
    "plt.ylabel('count')\n",
    "plt.xticks(ind, ['women','men'])\n",
    "plt.title('Hypothyroid Positive Patients by Gender')\n",
    "plt.text(s=ht[ht.HT_percent==1].sex[ht.sex=='F'].count(), x=0, y=ht[ht.HT_percent==1].sex[ht.sex=='F'].count())\n",
    "plt.text(s=ht[ht.HT_percent==1].sex[ht.sex=='M'].count(), x=1, y=ht[ht.HT_percent==1].sex[ht.sex=='M'].count())\n",
    "\n",
    "plt.show()"
   ]
  },
  {
   "cell_type": "markdown",
   "metadata": {},
   "source": [
    "There are almost 3 times as many women diagnosed as men.\n",
    "\n",
    "Now lets look at those same numbers expressed as a ratio of hypothyroid diagnosis vs total sample.  In other words, the relative proportion based on patients treated."
   ]
  },
  {
   "cell_type": "code",
   "execution_count": 11,
   "metadata": {},
   "outputs": [],
   "source": [
    "#method for calculating errors for bar graph\n",
    "def ht_error_calc_MF(sex):\n",
    "    \n",
    "    try:\n",
    "        return (ht['HT_percent'].loc[(ht['sex'].isin([sex]))\n",
    "                ].std())/((ht['HT_percent'].loc[(ht['sex'].isin([sex]))\n",
    "                ].count())**.5)\n",
    "    except ValueError:\n",
    "        print('input error')"
   ]
  },
  {
   "cell_type": "code",
   "execution_count": 14,
   "metadata": {
    "scrolled": true
   },
   "outputs": [
    {
     "data": {
      "image/png": "[encoded data removed]",
      "text/plain": [
       "<Figure size 864x576 with 1 Axes>"
      ]
     },
     "metadata": {},
     "output_type": "display_data"
    }
   ],
   "source": [
    "#Change figure size\n",
    "plt.rcParams[\"figure.figsize\"] = [12, 8]\n",
    "\n",
    "ind = np.arange(2)\n",
    "\n",
    "fColor = 'rosybrown'\n",
    "mColor = 'slategrey'\n",
    "\n",
    "plt.bar(ind, np.array([\n",
    "    ht['HT_percent'].loc[ht['sex'].isin(['F'])].mean()\n",
    "    , ht['HT_percent'].loc[ht['sex'].isin(['M'])].mean()\n",
    "])\n",
    "    , color=[fColor,mColor], yerr=[ht_error_calc_MF('F'), ht_error_calc_MF('M')])\n",
    "\n",
    "plt.ylabel('Ratio')\n",
    "plt.xticks(ind, ['women','men'])\n",
    "plt.title('Ratio of Hypothyroid Positive Patients by Gender')\n",
    "\n",
    "plt.show()"
   ]
  },
  {
   "cell_type": "code",
   "execution_count": 13,
   "metadata": {},
   "outputs": [
    {
     "name": "stdout",
     "output_type": "stream",
     "text": [
      "t-value is:  1.0660578192374937 \n",
      "p-value is:  0.28648084740348156\n"
     ]
    }
   ],
   "source": [
    "tval,pval=stats.ttest_ind(ht['HT_percent'].loc[ht['sex'].isin(['F'])]\n",
    "                          , ht['HT_percent'].loc[ht['sex'].isin(['M'])]\n",
    "                          ,equal_var=True)\n",
    "print('t-value is: ', tval, '\\np-value is: ', pval)"
   ]
  },
  {
   "cell_type": "markdown",
   "metadata": {},
   "source": [
    "A preliminary look using the current data set shows that there is potentially no difference between the two groups.  A p-value of 0.286 is not significant enough to confidently state that the groups are different.\n",
    "\n",
    "So looking at diagnosis relative to the number of patients seeking treatment levels things out a bit. Based on this information we could build a bigger study to properly test this hypothesis:\n",
    "\n",
    "Experiment plan to test the hypothesis that diagnosis of male patients is a factor of treatment seeking behavior.  In other words, there is no difference in the ratio of men diagnosed and women diagnosed among patients seeking treatment:\n",
    "\n",
    "Analysis:\n",
    "Compare diagnosis of men vs women relative to the number of patients enrolling in clinics for treatment.  There are two ways to gather data - historical records of select clinics, which can be split into time periods to see if diagnosis patterns have historically remained consistent, and/or monitoring newly enrolled patients over a period of time for current diagnosis patterns.\n",
    "\n",
    "Group A = women enrolling to clinics for treatment\n",
    "Group B = Men enrolling to clinics for treatment\n",
    "\n",
    "Primary Outcomes:Ratio of diagnosed with hypothyroidism to total sample size.\n",
    "\n",
    "Secondary Outcomes: Symptoms reported, Age groups, typr of hypothyroidism.\n",
    "\n",
    "Rollout for historical records would consist of splitting the groups into relevant time periods - perhaps coinciding with shifts in diagnostic criteria.\n",
    "Rollout for current evaluation - monitor selected clinics over a period of time deemed sufficient based on number of patients typically enrolled in a week, month, or year.  Evaluate the data at the end of this period and either draw a conclusion or extend the study for a lonfer perios of time to collect more patients.\n",
    "\n",
    "Success will be determined when a sufficient number of patients in each group have been collected (as predetermined by a power calculation to find an appropriate number of patients to generate a sufficient p-value)."
   ]
  }
 ],
 "metadata": {
  "kernelspec": {
   "display_name": "Python 3",
   "language": "python",
   "name": "python3"
  },
  "language_info": {
   "codemirror_mode": {
    "name": "ipython",
    "version": 3
   },
   "file_extension": ".py",
   "mimetype": "text/x-python",
   "name": "python",
   "nbconvert_exporter": "python",
   "pygments_lexer": "ipython3",
   "version": "3.6.5"
  }
 },
 "nbformat": 4,
 "nbformat_minor": 2
}
